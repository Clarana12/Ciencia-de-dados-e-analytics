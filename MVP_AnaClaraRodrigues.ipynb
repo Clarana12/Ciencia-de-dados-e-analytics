{
  "nbformat": 4,
  "nbformat_minor": 0,
  "metadata": {
    "colab": {
      "provenance": [],
      "authorship_tag": "ABX9TyNzkDJSOBhO742xy6pp8+b/",
      "include_colab_link": true
    },
    "kernelspec": {
      "name": "python3",
      "display_name": "Python 3"
    },
    "language_info": {
      "name": "python"
    }
  },
  "cells": [
    {
      "cell_type": "markdown",
      "metadata": {
        "id": "view-in-github",
        "colab_type": "text"
      },
      "source": [
        "<a href=\"https://colab.research.google.com/github/Clarana12/Ciencia-de-dados-e-analytics/blob/main/MVP_AnaClaraRodrigues.ipynb\" target=\"_parent\"><img src=\"https://colab.research.google.com/assets/colab-badge.svg\" alt=\"Open In Colab\"/></a>"
      ]
    },
    {
      "cell_type": "markdown",
      "source": [
        "#**MVP Sprint 1 - Análise de Dados e Boas Práticas**\n",
        "\n",
        "## Aluno (a). Ana Clara Rodrigues\n",
        "\n",
        "### Escrever o nome do meu projeto\n",
        "\n"
      ],
      "metadata": {
        "id": "azBzU8RfwPBQ"
      }
    },
    {
      "cell_type": "code",
      "source": [],
      "metadata": {
        "id": "qzY6YLwLzEjG"
      },
      "execution_count": null,
      "outputs": []
    },
    {
      "cell_type": "markdown",
      "source": [
        "## 1. Definição do Problema"
      ],
      "metadata": {
        "id": "pvIKo4xGwdRH"
      }
    },
    {
      "cell_type": "markdown",
      "source": [
        "O dataset usado neste projeto será o **Conjunto de Dados de Saúde do Sono e Estilo de Vida** proveniente originalmente do https://www.kaggle.com/datasets/uom190346a/sleep-health-and-lifestyle-dataset/code?datasetId=3321433&sortBy=voteCount.\n",
        "\n",
        "Especialistas recomendam em média 8 horas de sono por dia, sem interrupções. Este número pode variar de acordo com a idade de cada indivíduo e as necessidades de desenvolvimento de seu corpo, de acordo com o indicado. Em longo prazo, a má qualidade do sono pode ter efeitos de maior alcance em sua saúde geral.\n",
        "\n",
        "Infelizmente muito de nós não alcançamos esse objetivo. Muitas vezes devido a rotinas, a ausência de tempo, preocupações ou até mesmo a dificultade de dormir devido a doenças como insonia ou ansiedade. De acordo com os Institutos Nacionais de Saúde, a insônia afeta cerca de um terço da população em geral, tornando-se o distúrbio do sono mais comuns.\n",
        "\n",
        "A proposta desse MVP é explorar os motivos que podem fazer com que uma pessoa desenvolva o disturbio de sono com base em dados.\n",
        "\n",
        "**O problema a ser estudado consiste em um estudo supervisionado/não supervisionado uma vez que temos medições xxxxx, onde iremos prevêr se uma pessoa tem distúrbio do sono ou não com base nos dados a serem inseridos.**\n",
        "\n",
        "**Informações sobre os atributos:**\n",
        "1. **Person ID** - Um ID para cada individuo.\n",
        "2. **Gender** - Gênero do individuo (Masculino/Feminino).\n",
        "3. **Age** - A idade da pessoa em anos.\n",
        "4. **Occupation** - A ocupação ou profissão da pessoa.\n",
        "5. **Sleep Duration** - O número de horas que a pessoa dorme por dia.(horas)\n",
        "6. **Quality of Sleep** - Uma classificação subjetiva da qualidade do sono, variando de 1 a 10.(escala: 1-10)\n",
        "7. **Physical Activity Level** - O número de minutos que a pessoa pratica atividade física diariamente.(minutos/dia)\n",
        "8. **Stress Level** - Uma classificação subjetiva do nível de estresse vivenciado pela pessoa, variando de 1 a 10.(escala: 1-10)\n",
        "9. **BMI Category** - A categoria de IMC da pessoa (por exemplo, Abaixo do Peso, Normal, Sobrepeso).\n",
        "10. **Blood Pressure** - A medição da pressão arterial da pessoa, indicada como pressão sistólica sobre pressão diastólica.(systolic/diastolic)\n",
        "11. **Heart Rate** - A frequência cardíaca em repouso da pessoa em batimentos por minuto. (bpm)\n",
        "12. **Daily Steps** -  O número de passos que a pessoa dá por dia.\n",
        "13. **Sleep Disorder** - A presença ou ausência de um distúrbio do sono na pessoa (Nenhum, Insônia, Apnéia do Sono).\n"
      ],
      "metadata": {
        "id": "2IdwxiduwlsQ"
      }
    },
    {
      "cell_type": "code",
      "source": [
        "# Imports\n",
        "import pandas as pd\n",
        "\n",
        "#For mathematical operations\n",
        "import numpy as np\n",
        "\n",
        "#Visualisation\n",
        "import seaborn as sns\n",
        "import plotly.express as px\n",
        "from termcolor import colored\n",
        "import matplotlib.pyplot as plt\n",
        "import plotly.graph_objects as go\n",
        "import plotly.figure_factory as ff\n"
      ],
      "metadata": {
        "id": "TbUlr6MqwsDf"
      },
      "execution_count": null,
      "outputs": []
    },
    {
      "cell_type": "code",
      "source": [
        "# configuração para não exibir os warnings\n",
        "import warnings\n",
        "warnings.filterwarnings(\"ignore\")"
      ],
      "metadata": {
        "id": "wzcN88mxwuBZ"
      },
      "execution_count": null,
      "outputs": []
    }
  ]
}